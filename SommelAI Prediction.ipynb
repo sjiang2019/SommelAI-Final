{
 "cells": [
  {
   "cell_type": "markdown",
   "metadata": {},
   "source": [
    "# SommelAI: Prediction\n",
    "## Steven Jiang and Tony DiPadova"
   ]
  },
  {
   "cell_type": "code",
   "execution_count": 6,
   "metadata": {},
   "outputs": [],
   "source": [
    "import pandas as pd\n",
    "import seaborn as sns\n",
    "from matplotlib import pyplot as plt\n",
    "import matplotlib\n",
    "from scipy.stats import pearsonr\n",
    "import statsmodels.api\n",
    "import numpy as np\n",
    "from sklearn.metrics import confusion_matrix\n",
    "import warnings\n",
    "warnings.filterwarnings('ignore')"
   ]
  },
  {
   "cell_type": "markdown",
   "metadata": {},
   "source": [
    "## Segment the Dataset"
   ]
  },
  {
   "cell_type": "code",
   "execution_count": 3,
   "metadata": {},
   "outputs": [],
   "source": [
    "df = pd.read_csv(\"winemag-data_first150k.csv\", encoding=\"utf-8\")\n",
    "df = df.drop([\"Unnamed: 0\"], axis=1)\n",
    "# Subset DF to only include rows where price is not NA\n",
    "finite_price_df = df[np.isfinite(df['price'])]\n",
    "# Subset DF to inlcude rows where price is less than $200\n",
    "lower_price_df = finite_price_df[finite_price_df['price'] < 200]"
   ]
  },
  {
   "cell_type": "markdown",
   "metadata": {},
   "source": [
    "## Tokenize and Clean Descriptions"
   ]
  },
  {
   "cell_type": "code",
   "execution_count": 4,
   "metadata": {},
   "outputs": [
    {
     "name": "stderr",
     "output_type": "stream",
     "text": [
      "/anaconda2/envs/sommelai/lib/python3.6/site-packages/ipykernel_launcher.py:25: SettingWithCopyWarning: \n",
      "A value is trying to be set on a copy of a slice from a DataFrame.\n",
      "Try using .loc[row_indexer,col_indexer] = value instead\n",
      "\n",
      "See the caveats in the documentation: http://pandas.pydata.org/pandas-docs/stable/indexing.html#indexing-view-versus-copy\n"
     ]
    }
   ],
   "source": [
    "from nltk.tokenize import RegexpTokenizer\n",
    "from string import punctuation\n",
    "from nltk.corpus import stopwords\n",
    "\n",
    "stop_words = stopwords.words()\n",
    "stop_words.append('wine')\n",
    "tokenizer = RegexpTokenizer(r'\\w+')\n",
    "reviews = lower_price_df['description']\n",
    "\n",
    "cleaned_text = []\n",
    "words = {}\n",
    "for review in reviews:\n",
    "    tokenized_words = tokenizer.tokenize(review)\n",
    "    cleaned_review = \"\"\n",
    "    for word in tokenized_words:\n",
    "        word = word.lower()\n",
    "        if word not in stop_words and word not in punctuation:\n",
    "            if word in words.keys():\n",
    "                words[word] += 1\n",
    "            else:\n",
    "                words[word] = 1\n",
    "            cleaned_review += word + \" \"\n",
    "    cleaned_text.append(cleaned_review)\n",
    "    \n",
    "lower_price_df['cleaned_descriptions'] = cleaned_text"
   ]
  },
  {
   "cell_type": "code",
   "execution_count": 7,
   "metadata": {},
   "outputs": [],
   "source": [
    "# Function for plotting confusion matrix\n",
    "def plot_confusion_matrix(cm, classes,\n",
    "                          normalize=False,\n",
    "                          title='Confusion matrix',\n",
    "                          cmap=plt.cm.Blues):\n",
    "    \"\"\"\n",
    "    This function prints and plots the confusion matrix.\n",
    "    Normalization can be applied by setting `normalize=True`.\n",
    "    \"\"\"\n",
    "    if normalize:\n",
    "        cm = cm.astype('float') / cm.sum(axis=1)[:, np.newaxis]\n",
    "\n",
    "    plt.imshow(cm, interpolation='nearest', cmap=cmap)\n",
    "    plt.title(title)\n",
    "    plt.colorbar()\n",
    "    tick_marks = np.arange(len(classes))\n",
    "    plt.xticks(tick_marks, classes, rotation=45)\n",
    "    plt.yticks(tick_marks, classes)\n",
    "\n",
    "    fmt = '.2f' if normalize else 'd'\n",
    "    thresh = cm.max() / 2.\n",
    "    for i, j in itertools.product(range(cm.shape[0]), range(cm.shape[1])):\n",
    "        plt.text(j, i, format(cm[i, j], fmt),\n",
    "                 horizontalalignment=\"center\",\n",
    "                 color=\"white\" if cm[i, j] > thresh else \"black\")\n",
    "\n",
    "    plt.tight_layout()\n",
    "    plt.ylabel('True label')\n",
    "    plt.xlabel('Predicted label')"
   ]
  },
  {
   "cell_type": "markdown",
   "metadata": {},
   "source": [
    "# Predicting Price from Description"
   ]
  },
  {
   "cell_type": "markdown",
   "metadata": {},
   "source": [
    "As previously mentioned, we are looking to replace sommeliers by being able to predict the quality and price of any given wine using a description of the wine. To do so, we look at the dataset of wines that only include wines priced under 200 dollars per bottle, to remove outliers. We approach this issue as a classification task by segmenting the prices into buckets. We create the following price buckets {(0-19), (20-39), (40-59), ..., (180-199)}. "
   ]
  },
  {
   "cell_type": "code",
   "execution_count": 10,
   "metadata": {},
   "outputs": [],
   "source": [
    "from sklearn.naive_bayes import MultinomialNB\n",
    "from sklearn.model_selection import train_test_split\n",
    "from sklearn.feature_extraction.text import CountVectorizer\n",
    "from sklearn.metrics import mean_squared_error, r2_score\n",
    "from nltk.corpus import stopwords\n",
    "from sklearn.feature_extraction.text import TfidfTransformer\n",
    "from sklearn.pipeline import Pipeline\n",
    "from sklearn import metrics\n",
    "from sklearn.linear_model import SGDClassifier\n",
    "from sklearn.model_selection import cross_val_score\n",
    "from sklearn.ensemble import AdaBoostClassifier\n",
    "from sklearn.model_selection import GridSearchCV\n",
    "import itertools"
   ]
  },
  {
   "cell_type": "code",
   "execution_count": 50,
   "metadata": {},
   "outputs": [],
   "source": [
    "# Generate price buckets\n",
    "lower_price_df['price_bucket'] = lower_price_df['price'] // 20\n",
    "lower_price_df['price_bucket'] = lower_price_df['price_bucket'].astype(int)\n",
    "\n",
    "# Split data into training and test sets\n",
    "X = lower_price_df['cleaned_descriptions']\n",
    "y = lower_price_df['price_bucket']\n",
    "\n",
    "X_train, X_test, y_train, y_test = train_test_split(X, y, random_state=42)"
   ]
  },
  {
   "cell_type": "markdown",
   "metadata": {},
   "source": [
    "We use a count vectorizor to generate word counts from the descriptions and then use a TFIDF transformer to calculate the term frequency inverse document frequency of the descriptions. TFIDF gives weight to keywords that don't necessarily appear in a large number of the decriptions, but appear in a certain type of description. In other words, we are looking for keywords that are specific to certain price buckets. We use two classifiers, a Multinomal Naive Bayes classifier and a Stochastic Gradient Descent classifier. Finally, we use scikit-learn's GridSeachCV to tune our hyperparameters."
   ]
  },
  {
   "cell_type": "markdown",
   "metadata": {},
   "source": [
    "## Multinomial Naive Bayes Classifier"
   ]
  },
  {
   "cell_type": "code",
   "execution_count": 12,
   "metadata": {},
   "outputs": [],
   "source": [
    "# Define Multinomial Naive Bayes classifier and tune hyperparameters using GridSearchCV\n",
    "naive_bayes_pipeline = Pipeline([('vect', CountVectorizer()),\n",
    "                     ('tfidf', TfidfTransformer()),\n",
    "                     ('clf', MultinomialNB()),\n",
    "                    ])\n",
    "\n",
    "param_grid = [\n",
    "    {\n",
    "        'clf__alpha': [0.5, 1.0],\n",
    "        'clf__fit_prior': [True, False],\n",
    "    }\n",
    "]\n",
    "\n",
    "grid = GridSearchCV(naive_bayes_pipeline, cv=3, n_jobs=1, param_grid=param_grid)\n",
    "grid.fit(X_train, y_train)\n",
    "predicted = grid.predict(X_test)"
   ]
  },
  {
   "cell_type": "code",
   "execution_count": 13,
   "metadata": {},
   "outputs": [
    {
     "name": "stdout",
     "output_type": "stream",
     "text": [
      "{'clf__alpha': 1.0, 'clf__fit_prior': False}\n",
      "0.5679044937228676\n",
      "             precision    recall  f1-score   support\n",
      "\n",
      "          0       0.68      0.73      0.70     12682\n",
      "          1       0.54      0.62      0.57     12864\n",
      "          2       0.39      0.41      0.40      4969\n",
      "          3       0.37      0.08      0.13      1989\n",
      "          4       0.27      0.01      0.02       787\n",
      "          5       0.50      0.00      0.01       318\n",
      "          6       0.00      0.00      0.00       268\n",
      "          7       0.00      0.00      0.00       109\n",
      "          8       0.00      0.00      0.00        66\n",
      "          9       0.00      0.00      0.00        40\n",
      "\n",
      "avg / total       0.54      0.57      0.54     34092\n",
      "\n"
     ]
    },
    {
     "data": {
      "image/png": "[encoded data removed]",
      "text/plain": [
       "<matplotlib.figure.Figure at 0x1c23e26358>"
      ]
     },
     "metadata": {},
     "output_type": "display_data"
    }
   ],
   "source": [
    "# Evaluate the model\n",
    "print(grid.best_params_)\n",
    "# Accuracy\n",
    "print(np.mean(predicted == y_test))\n",
    "# Precision and Recall\n",
    "print(metrics.classification_report(y_test, predicted))\n",
    "\n",
    "# Plot confusion matrix\n",
    "cnf_matrix = confusion_matrix(y_test, predicted, labels=[0,1,2,3,4,5,6,7,8,9])\n",
    "plot_confusion_matrix(cnf_matrix, classes=['[0-19]', '[20-39]', '[40-59]', '[60-79]', '[80-99]', '[100-119]', '[120-139]', '[140-159]', '[160-179]', '[180-199]'], normalize=True,\n",
    "                      title='Normalized confusion matrix')"
   ]
  },
  {
   "cell_type": "markdown",
   "metadata": {},
   "source": [
    "### Results of predicting price using a Multinomial Naive Bayes classifier\n",
    "* Accuracy: 56.7%\n",
    "* Precision, recall, and F1 score are highest for the lower price buckets, ~0.5, ~0.6, and ~0.5 respectively.\n",
    "* The Multinomial Naive Bayes classifier never predicts wines that are priced above 100 dollars per bottle.\n",
    "* This is likely due to the fact that the dataset is imbalanced, i.e. most of the wines are priced under 80 dollars per bottle."
   ]
  },
  {
   "cell_type": "markdown",
   "metadata": {},
   "source": [
    "## Stochastic Gradient Descent Classifier"
   ]
  },
  {
   "cell_type": "code",
   "execution_count": 14,
   "metadata": {},
   "outputs": [],
   "source": [
    "# Define SGD classifier and tune hyperparameters using GridSearchCV\n",
    "sgd_pipeline = Pipeline([\n",
    "    ('vect', CountVectorizer()),\n",
    "    ('tfidf', TfidfTransformer()),\n",
    "    ('clf', SGDClassifier(tol=None, max_iter=5, loss='log')),\n",
    "])\n",
    "\n",
    "param_grid = [\n",
    "    {\n",
    "        'clf__penalty': ['l2', 'elasticnet'],\n",
    "        'clf__alpha': [0.001, 0.01]\n",
    "    }\n",
    "]\n",
    "\n",
    "grid = GridSearchCV(sgd_pipeline, cv=3, n_jobs=1, param_grid=param_grid)\n",
    "grid.fit(X_train, y_train)\n",
    "predicted = grid.predict(X_test)"
   ]
  },
  {
   "cell_type": "code",
   "execution_count": 15,
   "metadata": {},
   "outputs": [
    {
     "name": "stdout",
     "output_type": "stream",
     "text": [
      "{'clf__alpha': 0.001, 'clf__penalty': 'l2'}\n",
      "0.5180687551331691\n",
      "             precision    recall  f1-score   support\n",
      "\n",
      "          0       0.61      0.75      0.67     12682\n",
      "          1       0.44      0.63      0.52     12864\n",
      "          2       1.00      0.00      0.00      4969\n",
      "          3       0.00      0.00      0.00      1989\n",
      "          4       0.00      0.00      0.00       787\n",
      "          5       0.00      0.00      0.00       318\n",
      "          6       0.00      0.00      0.00       268\n",
      "          7       0.00      0.00      0.00       109\n",
      "          8       0.00      0.00      0.00        66\n",
      "          9       0.00      0.00      0.00        40\n",
      "\n",
      "avg / total       0.54      0.52      0.45     34092\n",
      "\n"
     ]
    },
    {
     "data": {
      "image/png": "[encoded data removed]",
      "text/plain": [
       "<matplotlib.figure.Figure at 0x1c25714208>"
      ]
     },
     "metadata": {},
     "output_type": "display_data"
    }
   ],
   "source": [
    "# Evaluate model\n",
    "print(grid.best_params_)\n",
    "# Accuracy\n",
    "print(np.mean(predicted == y_test))\n",
    "# Precision and Recall\n",
    "print(metrics.classification_report(y_test, predicted))\n",
    "\n",
    "# Plot Confusion Matrix\n",
    "cnf_matrix = confusion_matrix(y_test, predicted, labels=[0,1,2,3,4,5,6,7,8,9])\n",
    "plot_confusion_matrix(cnf_matrix, classes=['[0-19]', '[20-39]', '[40-59]', '[60-79]', '[80-99]', '[100-119]', '[120-139]', '[140-159]', '[160-179]', '[180-199]'], normalize=True,\n",
    "                      title='Normalized confusion matrix')"
   ]
  },
  {
   "cell_type": "markdown",
   "metadata": {},
   "source": [
    "### Results of predicting price using a SGD Logistic Regression classifier\n",
    "* Accuracy: 51.8%\n",
    "* The overall accuracy is lower for the SGD classifier than for the Multinomial Naive Bayes classifier\n",
    "* Precision, recall, and F1 score are still generally higher for the lower price buckets\n",
    "* The SGD classifier is also unable to predict the price buckets of higher priced wines"
   ]
  },
  {
   "cell_type": "markdown",
   "metadata": {},
   "source": [
    "## Keras Classifier"
   ]
  },
  {
   "cell_type": "markdown",
   "metadata": {},
   "source": [
    "The simpler classification models yield accuracies of around 55%. In order to improve upon this, we use more complex models, such as neural networks. Once again, we use a count vectorizer and a TF-IDF transformer to convert our data into vector form. First, we build a simple neural network with 9 hidden layers for classification. We use RMSProp as our optimizer and Categorical Cross Entropy for our loss function. We evaluate our model using KFold Cross Validation as well as, precision, recall, and F1 Score. "
   ]
  },
  {
   "cell_type": "code",
   "execution_count": 41,
   "metadata": {},
   "outputs": [],
   "source": [
    "norm_pipeline = Pipeline([('vect', CountVectorizer()),\n",
    "                          ('tfidf', TfidfTransformer())\n",
    "                         ])\n",
    "\n",
    "X_norm = norm_pipeline.fit_transform(X)"
   ]
  },
  {
   "cell_type": "code",
   "execution_count": 63,
   "metadata": {},
   "outputs": [],
   "source": [
    "from keras.layers.recurrent import LSTM\n",
    "from keras.models import Sequential, Model\n",
    "from keras.layers import Dense, Dropout\n",
    "from keras.wrappers.scikit_learn import KerasClassifier\n",
    "from sklearn.model_selection import StratifiedKFold, cross_val_score, cross_validate\n",
    "\n",
    "# Set model hyperparameters\n",
    "dropout = 0.05\n",
    "num_features = X_norm.shape[1]\n",
    "num_classes = len(set(y))\n",
    "num_hidden_layers = 8\n",
    "hidden_layer_size = 100\n",
    "\n",
    "# Define simple neural network with 9 hidden layers\n",
    "def create_model():\n",
    "    model = Sequential()\n",
    "    model.add(Dense(hidden_layer_size, input_shape=(X_norm.shape[1],), activation='tanh'))\n",
    "    for layer in range(num_hidden_layers):\n",
    "        model.add(Dropout(dropout))\n",
    "        model.add(Dense(hidden_layer_size, activation='tanh'))\n",
    "    model.add(Dense(num_classes, activation='softmax'))\n",
    "    model.compile(optimizer='rmsprop', loss='categorical_crossentropy', metrics=['accuracy'])\n",
    "    return model\n",
    "\n",
    "keras_model = KerasClassifier(build_fn=create_model)"
   ]
  },
  {
   "cell_type": "code",
   "execution_count": 43,
   "metadata": {},
   "outputs": [
    {
     "name": "stdout",
     "output_type": "stream",
     "text": [
      "Epoch 1/1\n",
      "109091/109091 [==============================] - 208s 2ms/step - loss: 1.1451 - acc: 0.5400\n",
      "Epoch 1/1\n",
      "109093/109093 [==============================] - 211s 2ms/step - loss: 1.1428 - acc: 0.5413\n",
      "Epoch 1/1\n",
      "109094/109094 [==============================] - 198s 2ms/step - loss: 1.1433 - acc: 0.5403\n",
      "Epoch 1/1\n",
      "109096/109096 [==============================] - 218s 2ms/step - loss: 1.1464 - acc: 0.5424\n",
      "Epoch 1/1\n",
      "109098/109098 [==============================] - 222s 2ms/step - loss: 1.1462 - acc: 0.5400\n"
     ]
    }
   ],
   "source": [
    "# Perform KFold Cross validation\n",
    "kfold = StratifiedKFold(n_splits=5, shuffle=True)\n",
    "scoring = ['precision_macro', 'recall_macro', 'f1_macro']\n",
    "scores = cross_validate(keras_model, X_norm, y, scoring=scoring, cv=kfold)"
   ]
  },
  {
   "cell_type": "code",
   "execution_count": 45,
   "metadata": {},
   "outputs": [
    {
     "name": "stdout",
     "output_type": "stream",
     "text": [
      "Precision [0.1736783  0.14086129 0.21184706 0.15646347 0.19254899]\n",
      "Recall [0.19315636 0.15491017 0.17066654 0.17938996 0.19070933]\n",
      "F1 Score [0.18063026 0.14276364 0.16308799 0.16615164 0.18905104]\n"
     ]
    }
   ],
   "source": [
    "# Evaluate model using precision, recall, and F1 score\n",
    "print(\"Precision\", scores['test_precision_macro'])\n",
    "print(\"Recall\", scores['test_recall_macro'])\n",
    "print(\"F1 Score\", scores['test_f1_macro'])"
   ]
  },
  {
   "cell_type": "markdown",
   "metadata": {},
   "source": [
    "### Results of predicting price using a Keras Classifier\n",
    "* Accuracy: ~55%\n",
    "* No significant improvement over Multinomial Naive Bayes or SGD, in terms of accuracy\n",
    "* Precision, Recall, and F1 Score reveal that the Keras Classifier predicts higher priced wines with some degree of accuracy"
   ]
  },
  {
   "cell_type": "markdown",
   "metadata": {},
   "source": [
    "## LSTM with Word Embeddings"
   ]
  },
  {
   "cell_type": "markdown",
   "metadata": {},
   "source": [
    "Now, we build a neural network with LSTM and Word Embeddings generated using Word2Vec. In theory, the word embeddings should help our model learn semantic meaning in the textual descriptions, which may improve prediction accuracy. Once again, we use RMSProp as our optimizer and Categorical Cross Entropy for our loss function. We evaluate our model by calculating accuracy on the test set."
   ]
  },
  {
   "cell_type": "code",
   "execution_count": 65,
   "metadata": {},
   "outputs": [],
   "source": [
    "from gensim.models import KeyedVectors\n",
    "from keras.preprocessing.sequence import pad_sequences\n",
    "from keras.preprocessing.text import Tokenizer\n",
    "from keras.layers import Input, Embedding, Activation\n",
    "from keras.optimizers import RMSprop"
   ]
  },
  {
   "cell_type": "code",
   "execution_count": 78,
   "metadata": {},
   "outputs": [],
   "source": [
    "# Convert labels to categorical variables and split data into train and test sets\n",
    "le = LabelEncoder()\n",
    "y_transform = le.fit_transform(y)\n",
    "y_cat = to_categorical(y_transform)\n",
    "X_train,X_test,y_train,y_test = train_test_split(X,y_cat,test_size=0.15)"
   ]
  },
  {
   "cell_type": "code",
   "execution_count": 79,
   "metadata": {},
   "outputs": [],
   "source": [
    "# Generate sequences matrix from descriptions\n",
    "max_words = 500\n",
    "max_len = 300\n",
    "tok = Tokenizer(num_words=max_words)\n",
    "tok.fit_on_texts(X_train)\n",
    "sequences = tok.texts_to_sequences(X_train)\n",
    "sequences_matrix = pad_sequences(sequences,maxlen=max_len)"
   ]
  },
  {
   "cell_type": "code",
   "execution_count": 53,
   "metadata": {},
   "outputs": [],
   "source": [
    "# Load word vectors\n",
    "wv = KeyedVectors.load_word2vec_format('./GoogleNews-vectors-negative300.bin', binary=True)"
   ]
  },
  {
   "cell_type": "code",
   "execution_count": 54,
   "metadata": {},
   "outputs": [],
   "source": [
    "# Generate embedding matrix\n",
    "word_index = tok.word_index\n",
    "embedding_matrix = np.zeros((len(word_index) + 1, 300))\n",
    "for word, i in word_index.items():\n",
    "    try:\n",
    "        embedding_vector = wv.get_vector(word)\n",
    "        if embedding_vector is not None:\n",
    "            embedding_matrix[i] = embedding_vector\n",
    "    except:\n",
    "        pass"
   ]
  },
  {
   "cell_type": "code",
   "execution_count": 80,
   "metadata": {},
   "outputs": [],
   "source": [
    "# Define neural network with embedding layer and LSTM layer\n",
    "def LSTM_Embed():\n",
    "    inputs = Input(name='inputs',shape=[max_len])\n",
    "    layer = Embedding(\n",
    "        len(word_index) + 1,\n",
    "        300,\n",
    "        weights=[embedding_matrix],\n",
    "        input_length=max_len,\n",
    "        trainable=False\n",
    "    )(inputs)\n",
    "    layer = LSTM(64)(layer)\n",
    "    layer = Dense(256,name='FC1')(layer)\n",
    "    layer = Activation('relu')(layer)\n",
    "    layer = Dropout(0.5)(layer)\n",
    "    layer = Dense(10,name='out_layer')(layer)\n",
    "    layer = Activation('softmax')(layer)\n",
    "    model = Model(inputs=inputs,outputs=layer)\n",
    "    return model"
   ]
  },
  {
   "cell_type": "code",
   "execution_count": 81,
   "metadata": {},
   "outputs": [
    {
     "name": "stdout",
     "output_type": "stream",
     "text": [
      "_________________________________________________________________\n",
      "Layer (type)                 Output Shape              Param #   \n",
      "=================================================================\n",
      "inputs (InputLayer)          (None, 300)               0         \n",
      "_________________________________________________________________\n",
      "embedding_8 (Embedding)      (None, 300, 300)          8145600   \n",
      "_________________________________________________________________\n",
      "lstm_8 (LSTM)                (None, 64)                93440     \n",
      "_________________________________________________________________\n",
      "FC1 (Dense)                  (None, 256)               16640     \n",
      "_________________________________________________________________\n",
      "activation_13 (Activation)   (None, 256)               0         \n",
      "_________________________________________________________________\n",
      "dropout_63 (Dropout)         (None, 256)               0         \n",
      "_________________________________________________________________\n",
      "out_layer (Dense)            (None, 10)                2570      \n",
      "_________________________________________________________________\n",
      "activation_14 (Activation)   (None, 10)                0         \n",
      "=================================================================\n",
      "Total params: 8,258,250\n",
      "Trainable params: 112,650\n",
      "Non-trainable params: 8,145,600\n",
      "_________________________________________________________________\n",
      "Train on 92729 samples, validate on 23183 samples\n",
      "Epoch 1/10\n",
      "92729/92729 [==============================] - 819s 9ms/step - loss: 1.2885 - acc: 0.4718 - val_loss: 1.2317 - val_acc: 0.5014\n",
      "Epoch 2/10\n",
      "92729/92729 [==============================] - 817s 9ms/step - loss: 1.2091 - acc: 0.5103 - val_loss: 1.1894 - val_acc: 0.5161\n",
      "Epoch 3/10\n",
      "92729/92729 [==============================] - 834s 9ms/step - loss: 1.1760 - acc: 0.5243 - val_loss: 1.1839 - val_acc: 0.5191\n",
      "Epoch 4/10\n",
      "92729/92729 [==============================] - 791s 9ms/step - loss: 1.1525 - acc: 0.5321 - val_loss: 1.1498 - val_acc: 0.5368\n",
      "Epoch 5/10\n",
      "92729/92729 [==============================] - 774s 8ms/step - loss: 1.1333 - acc: 0.5413 - val_loss: 1.1525 - val_acc: 0.5346\n"
     ]
    },
    {
     "data": {
      "text/plain": [
       "<keras.callbacks.History at 0x1e6348cf98>"
      ]
     },
     "execution_count": 81,
     "metadata": {},
     "output_type": "execute_result"
    }
   ],
   "source": [
    "# Train model\n",
    "lstm_embed = LSTM_Embed()\n",
    "lstm_embed.summary()\n",
    "lstm_embed.compile(loss='categorical_crossentropy',optimizer=RMSprop(),metrics=['accuracy'])\n",
    "lstm_embed.fit(sequences_matrix,y_train,batch_size=128,epochs=10,\n",
    "          validation_split=0.2, callbacks=[EarlyStopping(monitor='val_loss',min_delta=0.0001)])"
   ]
  },
  {
   "cell_type": "code",
   "execution_count": 82,
   "metadata": {},
   "outputs": [
    {
     "name": "stdout",
     "output_type": "stream",
     "text": [
      "20456/20456 [==============================] - 92s 5ms/step\n",
      "Test set\n",
      "  Loss: 1.155\n",
      "  Accuracy: 0.525\n"
     ]
    }
   ],
   "source": [
    "# Evaluate model accuracy\n",
    "test_sequences = tok.texts_to_sequences(X_test)\n",
    "test_sequences_matrix = sequence.pad_sequences(test_sequences,maxlen=max_len)\n",
    "accr = lstm_embed.evaluate(test_sequences_matrix, y_test)\n",
    "print('Test set\\n  Loss: {:0.3f}\\n  Accuracy: {:0.3f}'.format(accr[0],accr[1]))"
   ]
  },
  {
   "cell_type": "markdown",
   "metadata": {},
   "source": [
    "### Results of predicting price using a LSTM with Word Embeddings\n",
    "* Accuracy: 52.5%\n",
    "* Unfortunately, using a neural network with an LSTM layer and word embeddings generated from Word2Vec actually yielded a lower accuracy than using the Multinomal Naive Bayes classifier"
   ]
  },
  {
   "cell_type": "markdown",
   "metadata": {},
   "source": [
    "## Overall Results of Predicting Price from Descriptions \n",
    "* The task of predicting price using textual descriptions of wines appears to be a relatively difficult one\n",
    "* First, we tested simple classifiers, such as Multinomial Naive Bayes and SVM\n",
    "* Next, we tested more complex classifiers built with Keras, one of which included an LSTM layer and word embeddings generated with Word2Vec\n",
    "* We found that the more complex classifiers produced similar results as the simple ones\n",
    "* The best model in terms of accuracy was the Multinomial Naive Bayes classifier"
   ]
  },
  {
   "cell_type": "code",
   "execution_count": 87,
   "metadata": {},
   "outputs": [
    {
     "data": {
      "text/plain": [
       "['./models/wine_price_classifier.joblib.pkl']"
      ]
     },
     "execution_count": 87,
     "metadata": {},
     "output_type": "execute_result"
    }
   ],
   "source": [
    "from sklearn.externals import joblib\n",
    "\n",
    "# Pickle the multinomial naive bayes classifier with best parameters from GridSearchCV\n",
    "naive_bayes_pipeline = Pipeline([('vect', CountVectorizer()),\n",
    "                     ('tfidf', TfidfTransformer()),\n",
    "                     ('clf', MultinomialNB(alpha=1.0, fit_prior=False)),\n",
    "                    ])\n",
    "\n",
    "naive_bayes_pipeline.fit(X, y)\n",
    "filename = './models/wine_price_classifier.joblib.pkl'\n",
    "joblib.dump(naive_bayes_pipeline, filename, compress=9)"
   ]
  },
  {
   "cell_type": "markdown",
   "metadata": {},
   "source": [
    "# Predicting Quality from Description"
   ]
  },
  {
   "cell_type": "markdown",
   "metadata": {},
   "source": [
    "Now, we move on to the task of predcting wine quality from textual descriptions. Since WineMag only publishes wines that score above 80/100 on the points scale, we normalize the points by subtracting 80 from all of the scores and generate the following quality buckets {(0-3), (4-7), (8-11), (12-15), (16-19)}. We test the same set of models as used previously."
   ]
  },
  {
   "cell_type": "code",
   "execution_count": 83,
   "metadata": {},
   "outputs": [],
   "source": [
    "# Splice points into buckets\n",
    "lower_price_df['points_bucket'] = (lower_price_df['points'] - 80) // 4\n",
    "lower_price_df['points_bucket'] = lower_price_df['points_bucket'].astype(int)"
   ]
  },
  {
   "cell_type": "code",
   "execution_count": 84,
   "metadata": {},
   "outputs": [],
   "source": [
    "# Split data into training and test sets\n",
    "X = lower_price_df['cleaned_descriptions']\n",
    "y = lower_price_df['points_bucket']\n",
    "X_train, X_test, y_train, y_test = train_test_split(X, y, random_state=42)"
   ]
  },
  {
   "cell_type": "markdown",
   "metadata": {},
   "source": [
    "## Multinomial Naive Bayes Classifier"
   ]
  },
  {
   "cell_type": "code",
   "execution_count": 85,
   "metadata": {},
   "outputs": [],
   "source": [
    "# Define Multinomial Naive Bayes Classifer and tune hyper parameters using GridSearch CV\n",
    "naive_bayes_pipeline = Pipeline([('vect', CountVectorizer()),\n",
    "                     ('tfidf', TfidfTransformer()),\n",
    "                     ('clf', MultinomialNB()),\n",
    "                    ])\n",
    "\n",
    "param_grid = [\n",
    "    {\n",
    "        'clf__alpha': [0.5, 1.0],\n",
    "        'clf__fit_prior': [True, False],\n",
    "    }\n",
    "]\n",
    "\n",
    "grid = GridSearchCV(naive_bayes_pipeline, cv=3, n_jobs=1, param_grid=param_grid)\n",
    "grid.fit(X_train, y_train)\n",
    "predicted = grid.predict(X_test)"
   ]
  },
  {
   "cell_type": "code",
   "execution_count": 89,
   "metadata": {
    "scrolled": true
   },
   "outputs": [
    {
     "name": "stdout",
     "output_type": "stream",
     "text": [
      "{'clf__alpha': 0.5, 'clf__fit_prior': False}\n",
      "0.6555203566819195\n",
      "             precision    recall  f1-score   support\n",
      "\n",
      "          0       0.62      0.66      0.64      3010\n",
      "          1       0.72      0.69      0.70     13899\n",
      "          2       0.65      0.63      0.64     12679\n",
      "          3       0.53      0.64      0.58      4293\n",
      "          4       0.10      0.00      0.01       211\n",
      "          5       0.00      0.00      0.00         0\n",
      "\n",
      "avg / total       0.66      0.66      0.66     34092\n",
      "\n"
     ]
    },
    {
     "data": {
      "image/png": "[encoded data removed]",
      "text/plain": [
       "<matplotlib.figure.Figure at 0x1c2586b6d8>"
      ]
     },
     "metadata": {},
     "output_type": "display_data"
    }
   ],
   "source": [
    "# Evaluate model\n",
    "print(grid.best_params_)\n",
    "# Accuracy\n",
    "print(np.mean(predicted == y_test))\n",
    "# Precision and Recall\n",
    "print(metrics.classification_report(y_test, predicted))\n",
    "\n",
    "# Plot confusion matrix\n",
    "prediction = naive_bayes_pipeline.predict(X_test)\n",
    "cnf_matrix = confusion_matrix(y_test, prediction, labels=[0,1,2,3,4])\n",
    "plot_confusion_matrix(cnf_matrix, classes=['[80-83]', '[84-87]', '[88-91]', '[92-95]', '[96-99]'], normalize=True,\n",
    "                      title='Normalized confusion matrix')"
   ]
  },
  {
   "cell_type": "markdown",
   "metadata": {},
   "source": [
    "### Results of predicting quality using a Multinomial Naive Bayes classifier\n",
    "* Accuracy: 65.5%\n",
    "* The overall accuracy for predicting quality using the Multinomial Naive Bayes classifier is higher than the accuracies of predicting price using either classifier\n",
    "* For predicting quality, the classifer does a better job of predicting higher buckets than for price"
   ]
  },
  {
   "cell_type": "markdown",
   "metadata": {},
   "source": [
    "## Stochastic Gradient Descent Classifier"
   ]
  },
  {
   "cell_type": "code",
   "execution_count": 90,
   "metadata": {},
   "outputs": [],
   "source": [
    "# Define SGD classifier and tune hyper parameters using GridSearchCV\n",
    "sgd_pipeline = Pipeline([\n",
    "    ('vect', CountVectorizer()),\n",
    "    ('tfidf', TfidfTransformer()),\n",
    "    ('clf', SGDClassifier(random_state=42, tol=None, max_iter=5, loss='hinge')),\n",
    "])\n",
    "\n",
    "param_grid = [\n",
    "    {\n",
    "        'clf__penalty': ['l2', 'elasticnet'],\n",
    "        'clf__alpha': [0.001, 0.01]\n",
    "    }\n",
    "]\n",
    "\n",
    "grid = GridSearchCV(sgd_pipeline, cv=3, n_jobs=1, param_grid=param_grid)\n",
    "grid.fit(X_train, y_train)\n",
    "predicted = grid.predict(X_test)"
   ]
  },
  {
   "cell_type": "code",
   "execution_count": 91,
   "metadata": {},
   "outputs": [
    {
     "name": "stdout",
     "output_type": "stream",
     "text": [
      "{'clf__alpha': 0.001, 'clf__penalty': 'l2'}\n",
      "0.5723630177167663\n",
      "             precision    recall  f1-score   support\n",
      "\n",
      "          0       0.86      0.08      0.15      3010\n",
      "          1       0.56      0.90      0.69     13899\n",
      "          2       0.57      0.51      0.54     12679\n",
      "          3       0.73      0.08      0.14      4293\n",
      "          4       0.00      0.00      0.00       211\n",
      "\n",
      "avg / total       0.61      0.57      0.51     34092\n",
      "\n"
     ]
    },
    {
     "data": {
      "image/png": "[encoded data removed]",
      "text/plain": [
       "<matplotlib.figure.Figure at 0x1c8a9c1ef0>"
      ]
     },
     "metadata": {},
     "output_type": "display_data"
    }
   ],
   "source": [
    "# Evaluate model\n",
    "print(grid.best_params_)\n",
    "# Accuracy\n",
    "print(np.mean(predicted == y_test))\n",
    "# Precision and Recall\n",
    "print(metrics.classification_report(y_test, predicted))\n",
    "\n",
    "# Plot confusion matrix\n",
    "prediction = naive_bayes_pipeline.predict(X_test)\n",
    "cnf_matrix = confusion_matrix(y_test, prediction, labels=[0,1,2,3,4])\n",
    "plot_confusion_matrix(cnf_matrix, classes=['[80-83]', '[84-87]', '[88-91]', '[92-95]', '[96-99]'], normalize=True,\n",
    "                      title='Normalized confusion matrix')"
   ]
  },
  {
   "cell_type": "markdown",
   "metadata": {},
   "source": [
    "### Results of predicting quality using an Stochastic Gradient Descent classifier\n",
    "* Accuracy: 57.01%\n",
    "* The overall accuracy for predicting quality using the SGD classifier is higher than the accuracies of predicting price using either classifier\n",
    "* Accuracy, Precision, recall, and F1 score are lower than those of the Multinomial Naive Bayes classifier"
   ]
  },
  {
   "cell_type": "markdown",
   "metadata": {},
   "source": [
    "## Keras Classifier"
   ]
  },
  {
   "cell_type": "code",
   "execution_count": 93,
   "metadata": {},
   "outputs": [],
   "source": [
    "norm_pipeline = Pipeline([('vect', CountVectorizer()),\n",
    "                          ('tfidf', TfidfTransformer())\n",
    "                         ])\n",
    "\n",
    "X_norm = norm_pipeline.fit_transform(X)"
   ]
  },
  {
   "cell_type": "code",
   "execution_count": 94,
   "metadata": {},
   "outputs": [],
   "source": [
    "# Set model hyperparameters\n",
    "dropout = 0.05\n",
    "num_features = X_norm.shape[1]\n",
    "num_classes = len(set(y))\n",
    "num_hidden_layers = 8\n",
    "hidden_layer_size = 100\n",
    "\n",
    "# Define model\n",
    "def create_model():\n",
    "    model = Sequential()\n",
    "    model.add(Dense(hidden_layer_size, input_shape=(X_norm.shape[1],), activation='tanh'))\n",
    "    for layer in range(num_hidden_layers):\n",
    "        model.add(Dropout(dropout))\n",
    "        model.add(Dense(hidden_layer_size, activation='tanh'))\n",
    "    model.add(Dense(num_classes, activation='softmax'))\n",
    "    model.compile(optimizer='rmsprop', loss='categorical_crossentropy', metrics=['accuracy'])\n",
    "    return model\n",
    "\n",
    "keras_model = KerasClassifier(build_fn=create_model)"
   ]
  },
  {
   "cell_type": "code",
   "execution_count": 95,
   "metadata": {},
   "outputs": [
    {
     "name": "stdout",
     "output_type": "stream",
     "text": [
      "Epoch 1/1\n",
      "109092/109092 [==============================] - 221s 2ms/step - loss: 0.8069 - acc: 0.6459\n",
      "Epoch 1/1\n",
      "109093/109093 [==============================] - 199s 2ms/step - loss: 0.8049 - acc: 0.6475\n",
      "Epoch 1/1\n",
      "109095/109095 [==============================] - 220s 2ms/step - loss: 0.8091 - acc: 0.6439\n",
      "Epoch 1/1\n",
      "109096/109096 [==============================] - 214s 2ms/step - loss: 0.8055 - acc: 0.6451\n",
      "Epoch 1/1\n",
      "109096/109096 [==============================] - 207s 2ms/step - loss: 0.8073 - acc: 0.6472\n"
     ]
    }
   ],
   "source": [
    "# Perform KFold Cross Validation\n",
    "kfold = StratifiedKFold(n_splits=5, shuffle=True)\n",
    "scoring = ['precision_macro', 'recall_macro', 'f1_macro']\n",
    "scores = cross_validate(keras_model, X_norm, y, scoring=scoring, cv=kfold)"
   ]
  },
  {
   "cell_type": "code",
   "execution_count": 97,
   "metadata": {},
   "outputs": [
    {
     "name": "stdout",
     "output_type": "stream",
     "text": [
      "Precision [0.43289077 0.45152082 0.46386963 0.45914539 0.51133267]\n",
      "Recall [0.39499217 0.44753438 0.35858107 0.41184016 0.44358219]\n",
      "F1 Score [0.39473947 0.4460784  0.37843197 0.42221926 0.4588866 ]\n"
     ]
    }
   ],
   "source": [
    "# Evaluate model using Precision, Recall, and F1 Score\n",
    "print(\"Precision\", scores['test_precision_macro'])\n",
    "print(\"Recall\", scores['test_recall_macro'])\n",
    "print(\"F1 Score\", scores['test_f1_macro'])"
   ]
  },
  {
   "cell_type": "markdown",
   "metadata": {},
   "source": [
    "### Results of predicting quality using a Keras classifier\n",
    "* The accuracy of the keras classifier is similar to that of the Multinomial Naive Bayes classifier\n",
    "* Additionally, the Precision, Recall, and F1 scores are also comparable\n",
    "* There is no significant improvement gained from using a more complex classifier"
   ]
  },
  {
   "cell_type": "markdown",
   "metadata": {},
   "source": [
    "# LSTM with Word Embeddings"
   ]
  },
  {
   "cell_type": "code",
   "execution_count": 99,
   "metadata": {},
   "outputs": [],
   "source": [
    "from sklearn.model_selection import train_test_split\n",
    "from sklearn.preprocessing import LabelEncoder\n",
    "from keras.models import Model\n",
    "from keras.layers import Activation, Dense, Dropout, Input, Embedding\n",
    "from keras.layers.recurrent import LSTM\n",
    "from keras.optimizers import RMSprop\n",
    "from keras.preprocessing.text import Tokenizer\n",
    "from keras.preprocessing import sequence\n",
    "from keras.utils import to_categorical\n",
    "from keras.callbacks import EarlyStopping\n",
    "from keras.utils import to_categorical\n",
    "from keras.preprocessing.sequence import pad_sequences"
   ]
  },
  {
   "cell_type": "code",
   "execution_count": 100,
   "metadata": {},
   "outputs": [],
   "source": [
    "# Encode labels as categorical variables and split data into train and test sets\n",
    "le = LabelEncoder()\n",
    "y_transform = le.fit_transform(y)\n",
    "y_cat = to_categorical(y_transform)\n",
    "X_train,X_test,y_train,y_test = train_test_split(X,y_cat,test_size=0.15)"
   ]
  },
  {
   "cell_type": "code",
   "execution_count": 101,
   "metadata": {},
   "outputs": [],
   "source": [
    "# Create sequences matrix from descriptions\n",
    "max_words = 500\n",
    "max_len = 300\n",
    "tok = Tokenizer(num_words=max_words)\n",
    "tok.fit_on_texts(X_train)\n",
    "sequences = tok.texts_to_sequences(X_train)\n",
    "sequences_matrix = sequence.pad_sequences(sequences,maxlen=max_len)"
   ]
  },
  {
   "cell_type": "code",
   "execution_count": 102,
   "metadata": {},
   "outputs": [],
   "source": [
    "# Load word vectors\n",
    "wv = KeyedVectors.load_word2vec_format('./GoogleNews-vectors-negative300.bin', binary=True)"
   ]
  },
  {
   "cell_type": "code",
   "execution_count": 103,
   "metadata": {},
   "outputs": [],
   "source": [
    "# Generate embedding matrix\n",
    "word_index = tok.word_index\n",
    "embedding_matrix = np.zeros((len(word_index) + 1, 300))\n",
    "for word, i in word_index.items():\n",
    "    try:\n",
    "        embedding_vector = wv.get_vector(word)\n",
    "        if embedding_vector is not None:\n",
    "            # words not found in embedding index will be all-zeros.\n",
    "            embedding_matrix[i] = embedding_vector\n",
    "    except:\n",
    "        pass"
   ]
  },
  {
   "cell_type": "code",
   "execution_count": 104,
   "metadata": {},
   "outputs": [],
   "source": [
    "# Define model with embedding layer and LSTM layer\n",
    "def LSTM_Qual():\n",
    "    inputs = Input(name='inputs',shape=[max_len])\n",
    "    layer = Embedding(\n",
    "        len(word_index) + 1,\n",
    "        300,\n",
    "        weights=[embedding_matrix],\n",
    "        input_length=max_len,\n",
    "        trainable=False\n",
    "    )(inputs)\n",
    "    layer = LSTM(64)(layer)\n",
    "    layer = Dense(256,name='FC1')(layer)\n",
    "    layer = Activation('relu')(layer)\n",
    "    layer = Dropout(0.5)(layer)\n",
    "    layer = Dense(6,name='out_layer')(layer)\n",
    "    layer = Activation('softmax')(layer)\n",
    "    model = Model(inputs=inputs,outputs=layer)\n",
    "    return model"
   ]
  },
  {
   "cell_type": "code",
   "execution_count": 105,
   "metadata": {},
   "outputs": [
    {
     "name": "stdout",
     "output_type": "stream",
     "text": [
      "_________________________________________________________________\n",
      "Layer (type)                 Output Shape              Param #   \n",
      "=================================================================\n",
      "inputs (InputLayer)          (None, 300)               0         \n",
      "_________________________________________________________________\n",
      "embedding_9 (Embedding)      (None, 300, 300)          8395500   \n",
      "_________________________________________________________________\n",
      "lstm_9 (LSTM)                (None, 64)                93440     \n",
      "_________________________________________________________________\n",
      "FC1 (Dense)                  (None, 256)               16640     \n",
      "_________________________________________________________________\n",
      "activation_15 (Activation)   (None, 256)               0         \n",
      "_________________________________________________________________\n",
      "dropout_104 (Dropout)        (None, 256)               0         \n",
      "_________________________________________________________________\n",
      "out_layer (Dense)            (None, 6)                 1542      \n",
      "_________________________________________________________________\n",
      "activation_16 (Activation)   (None, 6)                 0         \n",
      "=================================================================\n",
      "Total params: 8,507,122\n",
      "Trainable params: 111,622\n",
      "Non-trainable params: 8,395,500\n",
      "_________________________________________________________________\n",
      "Train on 92729 samples, validate on 23183 samples\n",
      "Epoch 1/10\n",
      "92729/92729 [==============================] - 874s 9ms/step - loss: 0.9562 - acc: 0.5702 - val_loss: 0.9772 - val_acc: 0.5532\n",
      "Epoch 2/10\n",
      "92729/92729 [==============================] - 1063s 11ms/step - loss: 0.8517 - acc: 0.6208 - val_loss: 0.8514 - val_acc: 0.6200\n",
      "Epoch 3/10\n",
      "92729/92729 [==============================] - 841s 9ms/step - loss: 0.8219 - acc: 0.6343 - val_loss: 0.8130 - val_acc: 0.6381\n",
      "Epoch 4/10\n",
      "92729/92729 [==============================] - 873s 9ms/step - loss: 0.7976 - acc: 0.6455 - val_loss: 0.8174 - val_acc: 0.6398\n",
      "Epoch 5/10\n",
      "92729/92729 [==============================] - 858s 9ms/step - loss: 0.7757 - acc: 0.6547 - val_loss: 0.8059 - val_acc: 0.6417\n",
      "Epoch 6/10\n",
      "92729/92729 [==============================] - 843s 9ms/step - loss: 0.7587 - acc: 0.6630 - val_loss: 0.7976 - val_acc: 0.6541\n",
      "Epoch 7/10\n",
      "92729/92729 [==============================] - 785s 8ms/step - loss: 0.7387 - acc: 0.6723 - val_loss: 0.7870 - val_acc: 0.6541\n",
      "Epoch 8/10\n",
      "92729/92729 [==============================] - 853s 9ms/step - loss: 0.7196 - acc: 0.6812 - val_loss: 0.7893 - val_acc: 0.6576\n",
      "Epoch 9/10\n",
      "92729/92729 [==============================] - 884s 10ms/step - loss: 0.7012 - acc: 0.6900 - val_loss: 0.7880 - val_acc: 0.6561\n",
      "Epoch 10/10\n",
      "92729/92729 [==============================] - 809s 9ms/step - loss: 0.6835 - acc: 0.6971 - val_loss: 0.7695 - val_acc: 0.6691\n"
     ]
    },
    {
     "data": {
      "text/plain": [
       "<keras.callbacks.History at 0x1c25999a90>"
      ]
     },
     "execution_count": 105,
     "metadata": {},
     "output_type": "execute_result"
    }
   ],
   "source": [
    "# Train model\n",
    "lstm_qual = LSTM_Qual()\n",
    "lstm_qual.summary()\n",
    "lstm_qual.compile(loss='categorical_crossentropy',optimizer=RMSprop(),metrics=['accuracy'])\n",
    "lstm_qual.fit(sequences_matrix,y_train,batch_size=128,epochs=10,\n",
    "          validation_split=0.2, callbacks=[EarlyStopping(monitor='val_loss',min_delta=0.0001)])"
   ]
  },
  {
   "cell_type": "code",
   "execution_count": 106,
   "metadata": {},
   "outputs": [
    {
     "name": "stdout",
     "output_type": "stream",
     "text": [
      "20456/20456 [==============================] - 87s 4ms/step\n",
      "Test set\n",
      "  Loss: 0.772\n",
      "  Accuracy: 0.665\n"
     ]
    }
   ],
   "source": [
    "# Evaluate model\n",
    "test_sequences = tok.texts_to_sequences(X_test)\n",
    "test_sequences_matrix = sequence.pad_sequences(test_sequences,maxlen=max_len)\n",
    "accr = lstm_qual.evaluate(test_sequences_matrix, y_test)\n",
    "print('Test set\\n  Loss: {:0.3f}\\n  Accuracy: {:0.3f}'.format(accr[0],accr[1]))"
   ]
  },
  {
   "cell_type": "markdown",
   "metadata": {},
   "source": [
    "### Results of predicting quality using a LSTM with Word Embeddings\n",
    "* Predicting quality using a neural network with LSTM and word embeddings generated from Word2Vec did not yield significant improvement from a simple multinomial naive bayes classifier "
   ]
  },
  {
   "cell_type": "markdown",
   "metadata": {},
   "source": [
    "## Overall Results of Predicting Quality from Descriptions\n",
    "* We achieved higher accuracy, precision, recall, and F1 scores overall when predicting quality compared to predicting price\n",
    "* However, we found that using more complex classifiers didn't necessarily improve classification performance"
   ]
  },
  {
   "cell_type": "code",
   "execution_count": 98,
   "metadata": {},
   "outputs": [
    {
     "data": {
      "text/plain": [
       "['./models/wine_qual_classifier.joblib.pkl']"
      ]
     },
     "execution_count": 98,
     "metadata": {},
     "output_type": "execute_result"
    }
   ],
   "source": [
    "from sklearn.externals import joblib\n",
    "\n",
    "naive_bayes_pipeline = Pipeline([('vect', CountVectorizer()),\n",
    "                     ('tfidf', TfidfTransformer()),\n",
    "                     ('clf', MultinomialNB(alpha=0.5, fit_prior=False)),\n",
    "                    ])\n",
    "# Save Multinomial Naive Bayes classifier for predicting quality\n",
    "naive_bayes_pipeline.fit(X, y)\n",
    "filename = './models/wine_qual_classifier.joblib.pkl'\n",
    "joblib.dump(naive_bayes_pipeline, filename, compress=9)"
   ]
  }
 ],
 "metadata": {
  "kernelspec": {
   "display_name": "Python 3",
   "language": "python",
   "name": "python3"
  },
  "language_info": {
   "codemirror_mode": {
    "name": "ipython",
    "version": 3
   },
   "file_extension": ".py",
   "mimetype": "text/x-python",
   "name": "python",
   "nbconvert_exporter": "python",
   "pygments_lexer": "ipython3",
   "version": "3.6.4"
  }
 },
 "nbformat": 4,
 "nbformat_minor": 2
}
